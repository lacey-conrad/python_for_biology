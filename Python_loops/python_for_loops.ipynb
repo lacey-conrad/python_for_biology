{
 "cells": [
  {
   "cell_type": "code",
   "execution_count": null,
   "id": "de2b3df0",
   "metadata": {},
   "outputs": [],
   "source": []
  },
  {
   "cell_type": "markdown",
   "id": "7349c19a",
   "metadata": {},
   "source": [
    "# *For Loops in Python*"
   ]
  },
  {
   "cell_type": "markdown",
   "id": "d2b2f3cf",
   "metadata": {},
   "source": [
    "## What is it?\n",
    "\n",
    "* A for loop in Python is a control structure used to iterate over a sequence (like a list, tuple, dictionary, or string). \n",
    "\n",
    "* The beauty of Python's for loop lies in its ability to iterate directly over items of a sequence in a clear and concise manner."
   ]
  },
  {
   "cell_type": "markdown",
   "id": "7d8060c5",
   "metadata": {},
   "source": [
    "### Syntax of the for Loop"
   ]
  },
  {
   "cell_type": "code",
   "execution_count": 1,
   "id": "17373c5f",
   "metadata": {},
   "outputs": [],
   "source": [
    "#for item in sequence:\n",
    "    # perform actions"
   ]
  },
  {
   "cell_type": "markdown",
   "id": "b5a9b3f8",
   "metadata": {},
   "source": [
    "#### What this loop does:\n",
    "* Here, the item represents each element in the sequence, and the loop executes the code block for each element."
   ]
  },
  {
   "cell_type": "code",
   "execution_count": null,
   "id": "7f5d0f08",
   "metadata": {},
   "outputs": [],
   "source": []
  },
  {
   "cell_type": "markdown",
   "id": "42fc7bfc",
   "metadata": {},
   "source": [
    "## Looping Over Collections"
   ]
  },
  {
   "cell_type": "markdown",
   "id": "ef218156",
   "metadata": {},
   "source": [
    "### 1. Strings"
   ]
  },
  {
   "cell_type": "code",
   "execution_count": 2,
   "id": "db8653f1",
   "metadata": {},
   "outputs": [
    {
     "name": "stdout",
     "output_type": "stream",
     "text": [
      "H\n",
      "e\n",
      "l\n",
      "l\n",
      "o\n"
     ]
    }
   ],
   "source": [
    "for char in \"Hello\":\n",
    "    print(char)"
   ]
  },
  {
   "cell_type": "markdown",
   "id": "f8e9ef24",
   "metadata": {},
   "source": [
    "#### What this loop does: \n",
    "* This loop iterates over each character in the string \"Hello\". \n",
    "* The for loop assigns each character ('H', 'e', 'l', 'l', 'o') in turn to the variable char and prints it. \n",
    "* So, the output will be each character of \"Hello\" on a new line."
   ]
  },
  {
   "cell_type": "code",
   "execution_count": null,
   "id": "d557182e",
   "metadata": {},
   "outputs": [],
   "source": []
  },
  {
   "cell_type": "markdown",
   "id": "eb024a85",
   "metadata": {},
   "source": [
    "### 2. Lists"
   ]
  },
  {
   "cell_type": "code",
   "execution_count": 3,
   "id": "6cd7486a",
   "metadata": {},
   "outputs": [
    {
     "name": "stdout",
     "output_type": "stream",
     "text": [
      "1\n",
      "2\n",
      "3\n"
     ]
    }
   ],
   "source": [
    "for num in [1, 2, 3]:\n",
    "    print(num)"
   ]
  },
  {
   "cell_type": "markdown",
   "id": "98a6b191",
   "metadata": {},
   "source": [
    "#### What this loop does:\n",
    "* Here, the loop goes through the list [1, 2, 3]. \n",
    "* In each iteration, num takes on the value of the next element in the list, starting with 1, then 2, and finally 3. \n",
    "* Each number is printed, resulting in the numbers 1, 2, and 3 each appearing on a new line."
   ]
  },
  {
   "cell_type": "code",
   "execution_count": null,
   "id": "c7143a4a",
   "metadata": {},
   "outputs": [],
   "source": []
  },
  {
   "cell_type": "markdown",
   "id": "52e70ec7",
   "metadata": {},
   "source": [
    "### 3. Dictionaries"
   ]
  },
  {
   "cell_type": "code",
   "execution_count": 4,
   "id": "341af393",
   "metadata": {},
   "outputs": [
    {
     "name": "stdout",
     "output_type": "stream",
     "text": [
      "a 1\n",
      "b 2\n"
     ]
    }
   ],
   "source": [
    "for key, value in {'a': 1, 'b': 2}.items():\n",
    "    print(key, value)"
   ]
  },
  {
   "cell_type": "markdown",
   "id": "194718ec",
   "metadata": {},
   "source": [
    "#### What this loop does:\n",
    "* This loop iterates over a dictionary containing two key-value pairs ('a': 1 and 'b': 2). \n",
    "* The method .items() returns a view object that displays a list of a dictionary's key-value tuple pairs. \n",
    "* In each iteration, key and value are assigned the key and value of the next item in the dictionary, which are then printed."
   ]
  },
  {
   "cell_type": "code",
   "execution_count": null,
   "id": "cf46e05d",
   "metadata": {},
   "outputs": [],
   "source": []
  },
  {
   "cell_type": "markdown",
   "id": "994eac38",
   "metadata": {},
   "source": [
    "## Loop control mechanisms"
   ]
  },
  {
   "cell_type": "markdown",
   "id": "200c5ada",
   "metadata": {},
   "source": [
    "### 1. Break\n",
    "* The break Statement: Terminates the loop prematurely."
   ]
  },
  {
   "cell_type": "code",
   "execution_count": 5,
   "id": "96da6af0",
   "metadata": {},
   "outputs": [],
   "source": [
    "for i in range(10):\n",
    "    if i == 5:\n",
    "        break"
   ]
  },
  {
   "cell_type": "markdown",
   "id": "c15bb37c",
   "metadata": {},
   "source": [
    "#### What this loop does:\n",
    "* This code iterates from 0 to 9 (as generated by range(10)). \n",
    "* When the value of i reaches 5, the if statement condition is met, triggering the break statement. \n",
    "* This stops the loop, even though it hasn't iterated over all the values up to 9."
   ]
  },
  {
   "cell_type": "code",
   "execution_count": null,
   "id": "a4bd7457",
   "metadata": {},
   "outputs": [],
   "source": []
  },
  {
   "cell_type": "markdown",
   "id": "8bf44507",
   "metadata": {},
   "source": [
    "### 2. Continue\n",
    "* The continue Statement: Skips the current iteration."
   ]
  },
  {
   "cell_type": "code",
   "execution_count": 6,
   "id": "36e2bb0b",
   "metadata": {},
   "outputs": [
    {
     "name": "stdout",
     "output_type": "stream",
     "text": [
      "1\n",
      "3\n",
      "5\n",
      "7\n",
      "9\n"
     ]
    }
   ],
   "source": [
    "for i in range(10):\n",
    "    if i % 2 == 0:\n",
    "        continue\n",
    "    print(i)"
   ]
  },
  {
   "cell_type": "markdown",
   "id": "ce33b5b9",
   "metadata": {},
   "source": [
    "#### What this loop does:\n",
    "* This loop also iterates from 0 to 9. \n",
    "* However, the if statement checks if i is an even number (this is what i % 2 == 0 does – it checks if the remainder when i is divided by 2 is 0). \n",
    "* If it is even, the continue statement is executed, which skips the rest of the loop body for that iteration. Therefore, only odd numbers are printed"
   ]
  },
  {
   "cell_type": "code",
   "execution_count": null,
   "id": "6c1329f1",
   "metadata": {},
   "outputs": [],
   "source": []
  },
  {
   "cell_type": "markdown",
   "id": "38f98312",
   "metadata": {},
   "source": [
    "## Advanced for loop techniques"
   ]
  },
  {
   "cell_type": "markdown",
   "id": "e313a0a5",
   "metadata": {},
   "source": [
    "### 1. Nested loops"
   ]
  },
  {
   "cell_type": "markdown",
   "id": "4c84ea2a",
   "metadata": {},
   "source": [
    "* This is an example of nested loops, where one loop is inside another. \n",
    "* The outer loop (for i in range(3)) iterates through the numbers 0, 1, and 2. \n",
    "* For each iteration of the outer loop, the inner loop (for j in range(3)) also iterates through the numbers 0, 1, and 2. The print(i, j) statement is executed for each combination of i and j."
   ]
  },
  {
   "cell_type": "code",
   "execution_count": 7,
   "id": "767835ae",
   "metadata": {},
   "outputs": [
    {
     "name": "stdout",
     "output_type": "stream",
     "text": [
      "0 0\n",
      "0 1\n",
      "0 2\n",
      "1 0\n",
      "1 1\n",
      "1 2\n",
      "2 0\n",
      "2 1\n",
      "2 2\n"
     ]
    }
   ],
   "source": [
    "for i in range(3):\n",
    "    for j in range(3):\n",
    "        print(i, j)"
   ]
  },
  {
   "cell_type": "markdown",
   "id": "e038c324",
   "metadata": {},
   "source": [
    "#### What this loop does:\n",
    "* The output will be a series of pairs representing all combinations of i and j in the range 0 to 2."
   ]
  },
  {
   "cell_type": "code",
   "execution_count": null,
   "id": "31458319",
   "metadata": {},
   "outputs": [],
   "source": []
  },
  {
   "cell_type": "markdown",
   "id": "b0db5f16",
   "metadata": {},
   "source": [
    "### 2. Looping With Enumerate"
   ]
  },
  {
   "cell_type": "markdown",
   "id": "75717184",
   "metadata": {},
   "source": [
    "* The enumerate function adds a counter to an iterable and returns it in a form of an enumerate object. \n",
    "* This object can be used directly in for loops. \n",
    "* In this example, the for loop is used with enumerate on a list ['a', 'b', 'c']."
   ]
  },
  {
   "cell_type": "code",
   "execution_count": 8,
   "id": "cf593fbc",
   "metadata": {},
   "outputs": [
    {
     "name": "stdout",
     "output_type": "stream",
     "text": [
      "0 a\n",
      "1 b\n",
      "2 c\n"
     ]
    }
   ],
   "source": [
    "for index, value in enumerate(['a', 'b', 'c']):\n",
    "    print(index, value)"
   ]
  },
  {
   "cell_type": "markdown",
   "id": "a6a2ec2e",
   "metadata": {},
   "source": [
    "#### What this loop does:\n",
    "* The enumerate function adds an index to each item in the list, starting from 0 by default. \n",
    "* The loop then iterates over this enumerate object, unpacking each item into index and value. \n",
    "* The index is the index of each item, and value is the corresponding item from the list. \n",
    "* So, the output will be a series of lines with the index and value."
   ]
  },
  {
   "cell_type": "code",
   "execution_count": null,
   "id": "742cb917",
   "metadata": {},
   "outputs": [],
   "source": []
  }
 ],
 "metadata": {
  "kernelspec": {
   "display_name": "Python 3 (ipykernel)",
   "language": "python",
   "name": "python3"
  },
  "language_info": {
   "codemirror_mode": {
    "name": "ipython",
    "version": 3
   },
   "file_extension": ".py",
   "mimetype": "text/x-python",
   "name": "python",
   "nbconvert_exporter": "python",
   "pygments_lexer": "ipython3",
   "version": "3.9.7"
  }
 },
 "nbformat": 4,
 "nbformat_minor": 5
}
