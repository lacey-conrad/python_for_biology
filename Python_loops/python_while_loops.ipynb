{
 "cells": [
  {
   "cell_type": "code",
   "execution_count": null,
   "id": "f2624d4b",
   "metadata": {},
   "outputs": [],
   "source": []
  },
  {
   "cell_type": "markdown",
   "id": "98b0c9b7",
   "metadata": {},
   "source": [
    "# *While loops in Python*"
   ]
  },
  {
   "cell_type": "markdown",
   "id": "38b6e37f",
   "metadata": {},
   "source": [
    "* Python While Loop is used to execute a block of statements repeatedly until a given condition is satisfied. \n",
    "* When the condition becomes false, the line immediately after the loop in the program is executed."
   ]
  },
  {
   "cell_type": "markdown",
   "id": "e9d4e2f0",
   "metadata": {},
   "source": [
    "## Difference between Python For Loop and Python While Loop\n",
    "\n",
    "* The main difference between Python For Loop Versus Python While Loop is that Python for loop is usually used when the number of iterations is known, whereas Python while loop is used when the number of iterations is unknown."
   ]
  },
  {
   "cell_type": "code",
   "execution_count": null,
   "id": "46c0eb5b",
   "metadata": {},
   "outputs": [],
   "source": [
    "# Syntax of while loop in Python:\n",
    "\n",
    "# while expression:\n",
    "    # statement(s)"
   ]
  },
  {
   "cell_type": "code",
   "execution_count": 32,
   "id": "904bad01",
   "metadata": {},
   "outputs": [
    {
     "name": "stdout",
     "output_type": "stream",
     "text": [
      "Hello!\n",
      "Hello!\n",
      "Hello!\n",
      "Hello!\n",
      "Hello!\n"
     ]
    }
   ],
   "source": [
    "# Python program to illustrate while loop:\n",
    "\n",
    "# initiate a counter:\n",
    "count = 0\n",
    "\n",
    "while (count < 6): \n",
    "    count = count + 1\n",
    "    print(\"Hello!\")"
   ]
  },
  {
   "cell_type": "markdown",
   "id": "17fa0135",
   "metadata": {},
   "source": [
    "## IMPORTANT NOTE: Infinite while Loop in Python\n",
    "* Here, the value of the condition is always True. \n",
    "* Therefore, the body of the loop is run infinite times until the memory is full."
   ]
  },
  {
   "cell_type": "code",
   "execution_count": 33,
   "id": "995827ed",
   "metadata": {},
   "outputs": [],
   "source": [
    "# NOTE: DO NOT RUN THIS CELL!!!\n",
    "# In the nature of an infinite loop, it will run until your computer crashes ;-)\n",
    "\n",
    "\n",
    "# age = 28\n",
    "  \n",
    "# the test condition is always True \n",
    "# while age > 19: \n",
    "    # print('Infinite Loop')"
   ]
  },
  {
   "cell_type": "code",
   "execution_count": null,
   "id": "687334c7",
   "metadata": {},
   "outputs": [],
   "source": []
  },
  {
   "cell_type": "markdown",
   "id": "e406a209",
   "metadata": {},
   "source": [
    "## Control Statements in Python with Examples\n",
    "* Loop control statements change execution from their normal sequence. \n",
    "* When execution leaves a scope, all automatic objects that were created in that scope are destroyed. \n",
    "* Python supports the following control statements.\n",
    "\n",
    "### 1. Python while loop with continue statement\n",
    "* Python Continue Statement returns the control to the beginning of the loop."
   ]
  },
  {
   "cell_type": "code",
   "execution_count": 34,
   "id": "88a52dde",
   "metadata": {},
   "outputs": [
    {
     "name": "stdout",
     "output_type": "stream",
     "text": [
      "Current letter: p\n",
      "Current letter: y\n",
      "Current letter: t\n",
      "Current letter: h\n",
      "Current letter: o\n",
      "Current letter: n\n",
      "Current letter: i\n",
      "Current letter: f\n",
      "Current letter: u\n",
      "Current letter: n\n"
     ]
    }
   ],
   "source": [
    "# Prints all letters except 'e' and 's':\n",
    "\n",
    "i = 0\n",
    "string1 = 'pythonisfun'\n",
    "  \n",
    "while i < len(string1): \n",
    "    if string1[i] == 'e' or string1[i] == 's': \n",
    "        i += 1\n",
    "        continue\n",
    "          \n",
    "    print('Current letter:', string1[i]) \n",
    "    i += 1"
   ]
  },
  {
   "cell_type": "markdown",
   "id": "572473c0",
   "metadata": {},
   "source": [
    "### 2. Python while loop with a break statement:\n",
    "* Python Break Statement brings control out of the loop."
   ]
  },
  {
   "cell_type": "code",
   "execution_count": 35,
   "id": "7dfa5189",
   "metadata": {},
   "outputs": [
    {
     "name": "stdout",
     "output_type": "stream",
     "text": [
      "Current letter: p\n",
      "Current letter: y\n",
      "Current letter: t\n",
      "Current letter: h\n",
      "Current letter: o\n",
      "Current letter: n\n",
      "Current letter: i\n"
     ]
    }
   ],
   "source": [
    "# break the loop as soon it sees 'e' or 's':\n",
    "\n",
    "i = 0\n",
    "string1 = 'pythonisfun'\n",
    "  \n",
    "while i < len(string1): \n",
    "    if string1[i] == 'e' or string1[i] == 's': \n",
    "        i += 1\n",
    "        break\n",
    "          \n",
    "    print('Current letter:', string1[i]) \n",
    "    i += 1"
   ]
  },
  {
   "cell_type": "markdown",
   "id": "79c526d8",
   "metadata": {},
   "source": [
    "### 3. Python while loop with a pass statement:\n",
    "* The Python pass statement to write empty loops. \n",
    "* Pass is also used for empty control statements, functions, and classes."
   ]
  },
  {
   "cell_type": "code",
   "execution_count": 27,
   "id": "968b626b",
   "metadata": {},
   "outputs": [
    {
     "name": "stdout",
     "output_type": "stream",
     "text": [
      "The value of i is: 11\n"
     ]
    }
   ],
   "source": [
    "# An empty loop\"\n",
    "\n",
    "string1 = 'pythonisfun'\n",
    "i = 0\n",
    "  \n",
    "while i < len(string1): \n",
    "    i += 1\n",
    "    pass\n",
    "    \n",
    "print('The value of i is:', i) "
   ]
  },
  {
   "cell_type": "markdown",
   "id": "62f6ec00",
   "metadata": {},
   "source": [
    "### 4. While loop with else:\n",
    "* As discussed above, while loop executes the block until a condition is satisfied. \n",
    "* When the condition becomes false, the statement immediately after the loop is executed. \n",
    "* The else clause is only executed when your while condition becomes false. \n",
    "* If you break out of the loop, or if an exception is raised, it won’t be executed.\n",
    "\n",
    "* Note: The else block just after for/while is executed only when the loop is NOT terminated by a break statement. "
   ]
  },
  {
   "cell_type": "code",
   "execution_count": 28,
   "id": "8976674a",
   "metadata": {},
   "outputs": [
    {
     "name": "stdout",
     "output_type": "stream",
     "text": [
      "1\n",
      "2\n",
      "3\n",
      "4\n",
      "No break in while loop \n",
      "\n"
     ]
    }
   ],
   "source": [
    "# Python program to demonstrate while-else loop: \n",
    "  \n",
    "i = 0\n",
    "\n",
    "while i < 4: \n",
    "    i += 1\n",
    "    print(i) \n",
    "    \n",
    "# Executed because no break in for: \n",
    "else:  \n",
    "    print(\"No break in while loop \\n\") "
   ]
  },
  {
   "cell_type": "code",
   "execution_count": 29,
   "id": "4c870303",
   "metadata": {},
   "outputs": [
    {
     "name": "stdout",
     "output_type": "stream",
     "text": [
      "1\n"
     ]
    }
   ],
   "source": [
    "i = 0\n",
    "while i < 4: \n",
    "    i += 1\n",
    "    print(i) \n",
    "    break\n",
    "    \n",
    "# Not executed as there is a break: \n",
    "else:  \n",
    "    print(\"Break in while loop\") "
   ]
  },
  {
   "cell_type": "markdown",
   "id": "b102af76",
   "metadata": {},
   "source": [
    "### 5. Sentinel Controlled Statement\n",
    "* In this, we don’t use any counter variable because we don’t know how many times the loop will execute. \n",
    "* Here user decides how many times he wants to execute the loop. \n",
    "* For this, we use a sentinel value. \n",
    "* A sentinel value is a value that is used to terminate a loop whenever a user enters it, generally, the sentinel value is -1.\n",
    "\n",
    "\n",
    "\n",
    "#### Python while loop with user input\n",
    "\n",
    "* Here, It first asks the user to input a number. \n",
    "* If the user enters -1 then the loop will not execute, i.e.\n",
    "\n",
    "* The user enters 6 and the body of the loop executes and again asks for input.\n",
    "* Here user can input many times until he enters -1 to stop the loop.\n",
    "* User can decide how many times he wants to enter input."
   ]
  },
  {
   "cell_type": "code",
   "execution_count": 30,
   "id": "94d9be92",
   "metadata": {},
   "outputs": [
    {
     "name": "stdout",
     "output_type": "stream",
     "text": [
      "Enter a number, or enter -1 to quit: -1\n"
     ]
    }
   ],
   "source": [
    "user_input = int(input('Enter a number, or enter -1 to quit: ')) \n",
    "  \n",
    "while user_input != -1: \n",
    "    user_input = int(input('Enter a number, or enter -1 to quit: '))"
   ]
  },
  {
   "cell_type": "markdown",
   "id": "1a2f4a3b",
   "metadata": {},
   "source": [
    "### 6. While loop with Boolean values\n",
    "* One common use of boolean values in while loops are to create an infinite loop that can only be exited based on some condition within the loop. \n",
    "\n",
    "#### Example:\n",
    "* In this example, we initialize a counter and then use an infinite while loop (True is always true) to increment the counter and print its value. \n",
    "* We check if the counter has reached a certain value and if so, we exit the loop using the break statement."
   ]
  },
  {
   "cell_type": "code",
   "execution_count": 31,
   "id": "0eba3fea",
   "metadata": {},
   "outputs": [
    {
     "name": "stdout",
     "output_type": "stream",
     "text": [
      " The count is: 1 \n",
      " The count is: 2 \n",
      " The count is: 3 \n",
      " The count is: 4 \n",
      " The count is: 5 \n",
      " The count is: 6 \n",
      " The count is: 7 \n",
      " The count is: 8 \n",
      " The count is: 9 \n",
      " The count is: 10 \n",
      "End of loop.\n"
     ]
    }
   ],
   "source": [
    "# Initialize a counter: \n",
    "count = 0\n",
    "  \n",
    "# Loop infinitely: \n",
    "while True: \n",
    "    \n",
    "    # Increment the counter \n",
    "    count += 1\n",
    "    print(f\" The count is: {count} \") \n",
    "  \n",
    "    # Check if the counter has reached a certain value: \n",
    "    if count == 10: \n",
    "        \n",
    "        # If so, exit the loop:\n",
    "        break\n",
    "  \n",
    "# This will be executed after the loop exits \n",
    "print(\"End of loop.\") "
   ]
  },
  {
   "cell_type": "code",
   "execution_count": null,
   "id": "2054906c",
   "metadata": {},
   "outputs": [],
   "source": []
  },
  {
   "cell_type": "markdown",
   "id": "28b7b347",
   "metadata": {},
   "source": [
    "### 7. Python while loop with Python list\n",
    "* In this example, we have run a while loop over a list that will run until there is an element present in the list."
   ]
  },
  {
   "cell_type": "code",
   "execution_count": 14,
   "id": "fcd10c20",
   "metadata": {},
   "outputs": [
    {
     "name": "stdout",
     "output_type": "stream",
     "text": [
      "8\n",
      "7\n",
      "6\n",
      "5\n"
     ]
    }
   ],
   "source": [
    "# Checks if a list contains any elements: \n",
    "list1 = [5, 6, 7, 8] \n",
    "  \n",
    "while list1: \n",
    "    print(list1.pop())"
   ]
  },
  {
   "cell_type": "code",
   "execution_count": null,
   "id": "fb836279",
   "metadata": {},
   "outputs": [],
   "source": []
  },
  {
   "cell_type": "markdown",
   "id": "c1ff458e",
   "metadata": {},
   "source": [
    "### 8. Single statement while block\n",
    "* Just like the if block, if the while block consists of a single statement we can declare the entire loop in a single line. \n",
    "* If there are multiple statements in the block that makes up the loop body, they can be separated by semicolons (;). "
   ]
  },
  {
   "cell_type": "code",
   "execution_count": 13,
   "id": "cbbda6f8",
   "metadata": {},
   "outputs": [
    {
     "name": "stdout",
     "output_type": "stream",
     "text": [
      "Hello!\n",
      "Hello!\n",
      "Hello!\n",
      "Hello!\n",
      "Hello!\n"
     ]
    }
   ],
   "source": [
    "# Python program to illustrate single statement while block:\n",
    "\n",
    "#initiate a counter:\n",
    "count = 0\n",
    "\n",
    "while (count < 5): \n",
    "    count += 1\n",
    "    print(\"Hello!\")"
   ]
  },
  {
   "cell_type": "code",
   "execution_count": null,
   "id": "30362647",
   "metadata": {},
   "outputs": [],
   "source": []
  },
  {
   "cell_type": "markdown",
   "id": "3e137937",
   "metadata": {},
   "source": [
    "## Python while loops in practice:"
   ]
  },
  {
   "cell_type": "code",
   "execution_count": 36,
   "id": "e71ccffa",
   "metadata": {},
   "outputs": [
    {
     "name": "stdout",
     "output_type": "stream",
     "text": [
      "The ball is at a height of 10 meters.\n",
      "The ball is at a height of 5.0 meters.\n",
      "The ball is at a height of 2.5 meters.\n",
      "The ball is at a height of 1.25 meters.\n",
      "The ball is at a height of 0.625 meters.\n",
      "The ball is at a height of 0.3125 meters.\n",
      "The ball is at a height of 0.15625 meters.\n",
      "The ball has stopped bouncing.\n"
     ]
    }
   ],
   "source": [
    "# Python while loop in practice: \n",
    "\n",
    "initial_height = 10 \n",
    "bounce_factor = 0.5 \n",
    "height = initial_height \n",
    "while height > 0.1:   \n",
    "    print(\"The ball is at a height of\", height, \"meters.\") \n",
    "    height *= bounce_factor   \n",
    "print(\"The ball has stopped bouncing.\")"
   ]
  },
  {
   "cell_type": "code",
   "execution_count": 37,
   "id": "6532e7bd",
   "metadata": {},
   "outputs": [
    {
     "name": "stdout",
     "output_type": "stream",
     "text": [
      "10\n",
      "9\n",
      "8\n",
      "7\n",
      "6\n",
      "5\n",
      "4\n",
      "3\n",
      "2\n",
      "1\n",
      "Blast off!\n"
     ]
    }
   ],
   "source": [
    "# Another example of a whilte loop:\n",
    "\n",
    "countdown = 10\n",
    "while countdown > 0: \n",
    "    print(countdown) \n",
    "    countdown -= 1\n",
    "print(\"Blast off!\") "
   ]
  },
  {
   "cell_type": "code",
   "execution_count": null,
   "id": "1e3d588a",
   "metadata": {},
   "outputs": [],
   "source": []
  }
 ],
 "metadata": {
  "kernelspec": {
   "display_name": "Python 3 (ipykernel)",
   "language": "python",
   "name": "python3"
  },
  "language_info": {
   "codemirror_mode": {
    "name": "ipython",
    "version": 3
   },
   "file_extension": ".py",
   "mimetype": "text/x-python",
   "name": "python",
   "nbconvert_exporter": "python",
   "pygments_lexer": "ipython3",
   "version": "3.9.7"
  }
 },
 "nbformat": 4,
 "nbformat_minor": 5
}
