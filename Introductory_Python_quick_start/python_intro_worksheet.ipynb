{
 "cells": [
  {
   "cell_type": "code",
   "execution_count": null,
   "id": "2eb01639",
   "metadata": {},
   "outputs": [],
   "source": []
  },
  {
   "cell_type": "code",
   "execution_count": null,
   "id": "6579ba92",
   "metadata": {},
   "outputs": [],
   "source": []
  },
  {
   "cell_type": "markdown",
   "id": "6aee6a88",
   "metadata": {},
   "source": [
    "## Use any resources at your disposable to answer these questions. Remember, understanding what you are doing is more important than getting every answer correct!\n",
    "\n",
    "* My github repo should have a lot of help if you get stuck!\n",
    "\n",
    "### Quick reminders on what the tool bar buttons do in Jupyter notebook: \n",
    "* to run the code in a cell, press the \"play\"/run button in the tool bar.\n",
    "* to add a new cell, use the plus button.\n",
    "* to delete a cell, use the scissors button (This is permanant, I suggest only using it when you are positive you can delete code).\n",
    "* to save your code, use the save button (jupyter notebooks periodically autosace as well!).\n",
    "\n",
    "If you want to restart your notebook (for example, if you accidentally wrote some code that is causing your Jupyter notebooks to crash or continuously run), or clear all of the output (output = any of the output produced by your code), access the Kernel menu at the top of the notebook and select restart or restart and clear output, depending on what you need!"
   ]
  },
  {
   "cell_type": "code",
   "execution_count": null,
   "id": "19545f23",
   "metadata": {},
   "outputs": [],
   "source": [
    "######################################################################################################"
   ]
  },
  {
   "cell_type": "code",
   "execution_count": null,
   "id": "5d5c283f",
   "metadata": {},
   "outputs": [],
   "source": [
    "######################################################################################################"
   ]
  },
  {
   "cell_type": "markdown",
   "id": "b85b1790",
   "metadata": {},
   "source": [
    "# V V V V V V V V V V V V V V V V V V V V\n",
    "# Answer the questions below \n",
    "# V V V V V V V V V V V V V V V V V V V V"
   ]
  },
  {
   "cell_type": "markdown",
   "id": "1e1aa5b8",
   "metadata": {},
   "source": [
    "<br>"
   ]
  },
  {
   "cell_type": "markdown",
   "id": "a0130ce1",
   "metadata": {},
   "source": [
    "### Copy and paste the web address to my github repository"
   ]
  },
  {
   "cell_type": "code",
   "execution_count": null,
   "id": "e26df033",
   "metadata": {},
   "outputs": [],
   "source": []
  },
  {
   "cell_type": "markdown",
   "id": "a9fecb1b",
   "metadata": {},
   "source": [
    "### Write a print the statement that says \"hello world\""
   ]
  },
  {
   "cell_type": "code",
   "execution_count": null,
   "id": "96db6640",
   "metadata": {},
   "outputs": [],
   "source": []
  },
  {
   "cell_type": "markdown",
   "id": "213efe77",
   "metadata": {},
   "source": [
    "### Will the following line of code run correctly? (Feel free to test it!)"
   ]
  },
  {
   "cell_type": "code",
   "execution_count": null,
   "id": "df02a8e6",
   "metadata": {},
   "outputs": [],
   "source": [
    "print('hello world\")"
   ]
  },
  {
   "cell_type": "code",
   "execution_count": null,
   "id": "6ab22ffc",
   "metadata": {},
   "outputs": [],
   "source": []
  },
  {
   "cell_type": "markdown",
   "id": "1537d62f",
   "metadata": {},
   "source": [
    "### For the previous question: why or why not?"
   ]
  },
  {
   "cell_type": "code",
   "execution_count": null,
   "id": "2d416b8e",
   "metadata": {},
   "outputs": [],
   "source": []
  },
  {
   "cell_type": "markdown",
   "id": "401c92d8",
   "metadata": {},
   "source": [
    "### Use Python to calculate 5+6 in the next cell"
   ]
  },
  {
   "cell_type": "code",
   "execution_count": null,
   "id": "7c04ec90",
   "metadata": {},
   "outputs": [],
   "source": []
  },
  {
   "cell_type": "markdown",
   "id": "6df94fb8",
   "metadata": {},
   "source": [
    "### Assign the value of 1 to variable a. "
   ]
  },
  {
   "cell_type": "code",
   "execution_count": null,
   "id": "eca1e164",
   "metadata": {},
   "outputs": [],
   "source": []
  },
  {
   "cell_type": "markdown",
   "id": "1a40312a",
   "metadata": {},
   "source": [
    "### Assign the value of 2 to variable b."
   ]
  },
  {
   "cell_type": "code",
   "execution_count": null,
   "id": "beb0bb17",
   "metadata": {},
   "outputs": [],
   "source": []
  },
  {
   "cell_type": "markdown",
   "id": "bc5f5da8",
   "metadata": {},
   "source": [
    "### Add the variables a + b and print the results."
   ]
  },
  {
   "cell_type": "code",
   "execution_count": null,
   "id": "c3b5e9be",
   "metadata": {},
   "outputs": [],
   "source": []
  },
  {
   "cell_type": "markdown",
   "id": "47cafdf4",
   "metadata": {},
   "source": [
    "### What will be the output of running the following cell? "
   ]
  },
  {
   "cell_type": "code",
   "execution_count": null,
   "id": "cbfaac28",
   "metadata": {},
   "outputs": [],
   "source": [
    "print(a+b)\n",
    "print(a-b)"
   ]
  },
  {
   "cell_type": "code",
   "execution_count": null,
   "id": "3184687c",
   "metadata": {},
   "outputs": [],
   "source": []
  },
  {
   "cell_type": "markdown",
   "id": "0f4bc45b",
   "metadata": {},
   "source": [
    "### What will be the output of running the following cell? Note: this is a bit of a trick question!"
   ]
  },
  {
   "cell_type": "code",
   "execution_count": null,
   "id": "41ce94b4",
   "metadata": {},
   "outputs": [],
   "source": [
    "a+b\n",
    "a-b"
   ]
  },
  {
   "cell_type": "code",
   "execution_count": null,
   "id": "94efc409",
   "metadata": {},
   "outputs": [],
   "source": []
  },
  {
   "cell_type": "markdown",
   "id": "90e2b942",
   "metadata": {},
   "source": [
    "### Change the following print statement so that it prints out the values of a and b from the previous example.\n",
    "note: this example is almost directly off of my \"intro to python\" sheet on github.\n",
    "\n",
    "another note: you will be specifically replacing xxx and yyy ;-)"
   ]
  },
  {
   "cell_type": "code",
   "execution_count": null,
   "id": "e0e9833d",
   "metadata": {},
   "outputs": [],
   "source": [
    "print('The value of a is: {}, and the value of b is: {}'.format(xxx,yyy))"
   ]
  },
  {
   "cell_type": "code",
   "execution_count": null,
   "id": "1c005214",
   "metadata": {},
   "outputs": [],
   "source": []
  },
  {
   "cell_type": "markdown",
   "id": "2bb748a2",
   "metadata": {},
   "source": [
    "### Create a list named nums with the following numbers in it: 5, 1, 7, 10, 11."
   ]
  },
  {
   "cell_type": "code",
   "execution_count": null,
   "id": "80ca04cd",
   "metadata": {},
   "outputs": [],
   "source": [
    "nums = "
   ]
  },
  {
   "cell_type": "markdown",
   "id": "b26a0762",
   "metadata": {},
   "source": [
    "### Print out the elements of the list named nums"
   ]
  },
  {
   "cell_type": "code",
   "execution_count": null,
   "id": "93b2c35e",
   "metadata": {},
   "outputs": [],
   "source": []
  },
  {
   "cell_type": "markdown",
   "id": "ed0a0b7d",
   "metadata": {},
   "source": [
    "### Print out the second element of the list nums (you may have to google this)"
   ]
  },
  {
   "cell_type": "code",
   "execution_count": null,
   "id": "2d2d6d29",
   "metadata": {},
   "outputs": [],
   "source": []
  },
  {
   "cell_type": "markdown",
   "id": "279dc24f",
   "metadata": {},
   "source": [
    "NOTE: Computers are weird!  Most start counting at 0, whereas we typically starting counting at 1.  When you want to access the first element of a list, you are actually going to ask for the 0th element.  \n",
    "\n",
    "One way to access the first element in a list is to type the lists' name followed by a [ number of the element you want ].  For the nums list, accessing the first element (the number 5) would look like this:"
   ]
  },
  {
   "cell_type": "code",
   "execution_count": null,
   "id": "7dde81cd",
   "metadata": {},
   "outputs": [],
   "source": [
    "nums[0]"
   ]
  },
  {
   "cell_type": "markdown",
   "id": "37b8e6f9",
   "metadata": {},
   "source": [
    "which will give you the same result as:"
   ]
  },
  {
   "cell_type": "code",
   "execution_count": null,
   "id": "7bf9a1cb",
   "metadata": {},
   "outputs": [],
   "source": [
    "print(nums[0])"
   ]
  },
  {
   "cell_type": "markdown",
   "id": "af0ff31f",
   "metadata": {},
   "source": [
    "### Create a list named letts with the following letters in it: L, P, A, C, D."
   ]
  },
  {
   "cell_type": "code",
   "execution_count": null,
   "id": "c265fac1",
   "metadata": {},
   "outputs": [],
   "source": [
    "letts = "
   ]
  },
  {
   "cell_type": "markdown",
   "id": "0e792b4d",
   "metadata": {},
   "source": [
    "### Print out the second element of the list letts."
   ]
  },
  {
   "cell_type": "code",
   "execution_count": null,
   "id": "158e35a7",
   "metadata": {},
   "outputs": [],
   "source": []
  },
  {
   "cell_type": "code",
   "execution_count": null,
   "id": "1fa9c54f",
   "metadata": {},
   "outputs": [],
   "source": []
  }
 ],
 "metadata": {
  "kernelspec": {
   "display_name": "Python 3 (ipykernel)",
   "language": "python",
   "name": "python3"
  },
  "language_info": {
   "codemirror_mode": {
    "name": "ipython",
    "version": 3
   },
   "file_extension": ".py",
   "mimetype": "text/x-python",
   "name": "python",
   "nbconvert_exporter": "python",
   "pygments_lexer": "ipython3",
   "version": "3.9.7"
  }
 },
 "nbformat": 4,
 "nbformat_minor": 5
}
